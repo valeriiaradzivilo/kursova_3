{
 "cells": [
  {
   "cell_type": "code",
   "execution_count": 5,
   "id": "bdb06380",
   "metadata": {},
   "outputs": [
    {
     "name": "stdout",
     "output_type": "stream",
     "text": [
      "   1  189  9.3  2  3\n",
      "0  2  162  9.2  2  2\n",
      "1  3  154  9.0  1  4\n",
      "2  4  163  9.0  2  5\n",
      "3  5    1  9.0  6  4\n",
      "4  6  128  9.0  2  3\n"
     ]
    }
   ],
   "source": [
    "import pandas as pd\n",
    "def read_data(path):\n",
    "    # Reads the file with the given delimiter \",\"\n",
    "    data = pd.read_csv(path, sep=';', encoding='cp1252')\n",
    "    return data\n",
    "dataset = read_data('data/fact_imdb250.csv')\n",
    "print(dataset.head())"
   ]
  },
  {
   "cell_type": "code",
   "execution_count": 2,
   "id": "6d8d58b6",
   "metadata": {},
   "outputs": [
    {
     "ename": "NameError",
     "evalue": "name 'read_data' is not defined",
     "output_type": "error",
     "traceback": [
      "\u001b[1;31m---------------------------------------------------------------------------\u001b[0m",
      "\u001b[1;31mNameError\u001b[0m                                 Traceback (most recent call last)",
      "Cell \u001b[1;32mIn[2], line 1\u001b[0m\n\u001b[1;32m----> 1\u001b[0m dataset \u001b[38;5;241m=\u001b[39m \u001b[43mread_data\u001b[49m(\u001b[38;5;124m'\u001b[39m\u001b[38;5;124mdata/fact_imdb250.csv\u001b[39m\u001b[38;5;124m'\u001b[39m)\n\u001b[0;32m      2\u001b[0m \u001b[38;5;28mprint\u001b[39m(dataset\u001b[38;5;241m.\u001b[39mhead())\n",
      "\u001b[1;31mNameError\u001b[0m: name 'read_data' is not defined"
     ]
    }
   ],
   "source": []
  },
  {
   "cell_type": "code",
   "execution_count": null,
   "id": "7d0ad77f",
   "metadata": {},
   "outputs": [],
   "source": []
  }
 ],
 "metadata": {
  "kernelspec": {
   "display_name": "Python 3 (ipykernel)",
   "language": "python",
   "name": "python3"
  },
  "language_info": {
   "codemirror_mode": {
    "name": "ipython",
    "version": 3
   },
   "file_extension": ".py",
   "mimetype": "text/x-python",
   "name": "python",
   "nbconvert_exporter": "python",
   "pygments_lexer": "ipython3",
   "version": "3.11.1"
  }
 },
 "nbformat": 4,
 "nbformat_minor": 5
}
